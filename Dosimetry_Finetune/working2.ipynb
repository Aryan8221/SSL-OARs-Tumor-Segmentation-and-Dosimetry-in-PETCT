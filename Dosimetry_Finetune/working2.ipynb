{
 "cells": [
  {
   "cell_type": "code",
   "id": "initial_id",
   "metadata": {
    "collapsed": true,
    "ExecuteTime": {
     "end_time": "2024-07-06T12:04:23.968769Z",
     "start_time": "2024-07-06T12:04:22.785629Z"
    }
   },
   "source": [
    "import nibabel as nib\n",
    "import matplotlib.pyplot as plt\n",
    "import numpy as np"
   ],
   "outputs": [],
   "execution_count": 3
  },
  {
   "metadata": {
    "ExecuteTime": {
     "end_time": "2024-07-06T13:10:48.135672Z",
     "start_time": "2024-07-06T13:10:48.015355Z"
    }
   },
   "cell_type": "code",
   "source": [
    "nii_file_path = '/Users/aryanneizehbaz/Aryan8221/coding_projects/SSL-OARs-Tumor-Segmentation-in-PETCT/Dosimetry_Finetune/data/Mask/DML15.nii.gz'\n",
    "nii_img = nib.load(nii_file_path)"
   ],
   "id": "77769a57e92bc110",
   "outputs": [],
   "execution_count": 21
  },
  {
   "metadata": {
    "ExecuteTime": {
     "end_time": "2024-07-06T13:10:50.227622Z",
     "start_time": "2024-07-06T13:10:49.628142Z"
    }
   },
   "cell_type": "code",
   "source": [
    "nii_data = nii_img.get_fdata()\n",
    "\n",
    "# Calculate scalar range\n",
    "scalar_range = (np.min(nii_data), np.max(nii_data))\n",
    "print(f\"Scalar range: {scalar_range}\")"
   ],
   "id": "1f80b7d5384c865",
   "outputs": [
    {
     "name": "stdout",
     "output_type": "stream",
     "text": [
      "Scalar range: (0.0, 166.44991962579692)\n"
     ]
    }
   ],
   "execution_count": 22
  },
  {
   "metadata": {
    "ExecuteTime": {
     "end_time": "2024-07-06T12:07:09.960292Z",
     "start_time": "2024-07-06T12:07:08.807873Z"
    }
   },
   "cell_type": "code",
   "source": "np.unique(nii_data)",
   "id": "b99ab5a9cb2130cb",
   "outputs": [
    {
     "data": {
      "text/plain": [
       "array([0.00000000e+00, 1.46617337e-03, 1.46682820e-03, ...,\n",
       "       7.03524432e+01, 7.46117922e+01, 9.87050563e+01])"
      ]
     },
     "execution_count": 17,
     "metadata": {},
     "output_type": "execute_result"
    }
   ],
   "execution_count": 17
  },
  {
   "metadata": {
    "ExecuteTime": {
     "end_time": "2024-07-06T12:12:55.680882Z",
     "start_time": "2024-07-06T12:12:55.659682Z"
    }
   },
   "cell_type": "code",
   "source": "nii_data.shape",
   "id": "212212d421be263e",
   "outputs": [
    {
     "data": {
      "text/plain": [
       "(168, 168, 329)"
      ]
     },
     "execution_count": 18,
     "metadata": {},
     "output_type": "execute_result"
    }
   ],
   "execution_count": 18
  },
  {
   "metadata": {},
   "cell_type": "code",
   "outputs": [],
   "execution_count": null,
   "source": "",
   "id": "e1a1ad692408bea"
  }
 ],
 "metadata": {
  "kernelspec": {
   "display_name": "Python 3",
   "language": "python",
   "name": "python3"
  },
  "language_info": {
   "codemirror_mode": {
    "name": "ipython",
    "version": 2
   },
   "file_extension": ".py",
   "mimetype": "text/x-python",
   "name": "python",
   "nbconvert_exporter": "python",
   "pygments_lexer": "ipython2",
   "version": "2.7.6"
  }
 },
 "nbformat": 4,
 "nbformat_minor": 5
}
