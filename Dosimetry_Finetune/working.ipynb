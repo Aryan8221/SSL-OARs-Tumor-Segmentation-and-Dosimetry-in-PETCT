{
 "cells": [
  {
   "cell_type": "code",
   "id": "initial_id",
   "metadata": {
    "collapsed": true,
    "ExecuteTime": {
     "end_time": "2024-06-12T19:43:49.517416Z",
     "start_time": "2024-06-12T19:43:49.329052Z"
    }
   },
   "source": [
    "from monai import data, transforms\n",
    "import os\n",
    "from monai.data import load_decathlon_datalist\n",
    "import torch\n",
    "import math\n",
    "import numpy as np\n",
    "from torch.multiprocessing import set_start_method\n",
    "\n",
    "import warnings\n",
    "\n",
    "warnings.filterwarnings(\"ignore\", message=\"TypedStorage is deprecated\")\n"
   ],
   "outputs": [],
   "execution_count": 34
  },
  {
   "metadata": {
    "ExecuteTime": {
     "end_time": "2024-06-12T19:43:54.402507Z",
     "start_time": "2024-06-12T19:43:54.356458Z"
    }
   },
   "cell_type": "code",
   "source": [
    "class Sampler(torch.utils.data.Sampler):\n",
    "    def __init__(self, dataset, num_replicas=None, rank=None, shuffle=True, make_even=True):\n",
    "        if num_replicas is None:\n",
    "            if not torch.distributed.is_available():\n",
    "                raise RuntimeError(\"Requires distributed package to be available\")\n",
    "            num_replicas = torch.distributed.get_world_size()\n",
    "        if rank is None:\n",
    "            if not torch.distributed.is_available():\n",
    "                raise RuntimeError(\"Requires distributed package to be available\")\n",
    "            rank = torch.distributed.get_rank()\n",
    "        self.shuffle = shuffle\n",
    "        self.make_even = make_even\n",
    "        self.dataset = dataset\n",
    "        self.num_replicas = num_replicas\n",
    "        self.rank = rank\n",
    "        self.epoch = 0\n",
    "        self.num_samples = int(math.ceil(len(self.dataset) * 1.0 / self.num_replicas))\n",
    "        self.total_size = self.num_samples * self.num_replicas\n",
    "        indices = list(range(len(self.dataset)))\n",
    "        self.valid_length = len(indices[self.rank : self.total_size : self.num_replicas])\n",
    "\n",
    "    def __iter__(self):\n",
    "        if self.shuffle:\n",
    "            g = torch.Generator()\n",
    "            g.manual_seed(self.epoch)\n",
    "            indices = torch.randperm(len(self.dataset), generator=g).tolist()\n",
    "        else:\n",
    "            indices = list(range(len(self.dataset)))\n",
    "        if self.make_even:\n",
    "            if len(indices) < self.total_size:\n",
    "                if self.total_size - len(indices) < len(indices):\n",
    "                    indices += indices[: (self.total_size - len(indices))]\n",
    "                else:\n",
    "                    extra_ids = np.random.randint(low=0, high=len(indices), size=self.total_size - len(indices))\n",
    "                    indices += [indices[ids] for ids in extra_ids]\n",
    "            assert len(indices) == self.total_size\n",
    "        indices = indices[self.rank : self.total_size : self.num_replicas]\n",
    "        self.num_samples = len(indices)\n",
    "        return iter(indices)\n",
    "\n",
    "    def __len__(self):\n",
    "        return self.num_samples\n",
    "\n",
    "    def set_epoch(self, epoch):\n",
    "        self.epoch = epoch\n"
   ],
   "id": "58800ce459a963cc",
   "outputs": [],
   "execution_count": 35
  },
  {
   "metadata": {
    "ExecuteTime": {
     "end_time": "2024-06-12T21:58:08.641660Z",
     "start_time": "2024-06-12T21:58:08.579835Z"
    }
   },
   "cell_type": "code",
   "source": [
    "from monai import data, transforms\n",
    "from monai.data import load_decathlon_datalist\n",
    "from monai.transforms import RandSpatialCropd\n",
    "\n",
    "\n",
    "# normalized form \n",
    "def get_loader():\n",
    "    data_dir = '/Users/aryanneizehbaz/Aryan8221/coding_projects/SSL-OARs-Tumor-Segmentation-in-PETCT/Dosimetry_Finetune/data'\n",
    "    datalist_json = os.path.join(data_dir, 'fold0.json')\n",
    "    \n",
    "    train_transform = transforms.Compose(\n",
    "        [\n",
    "            transforms.LoadImaged(keys=[\"image\", \"label\"], image_only=True),\n",
    "            transforms.EnsureChannelFirstd(keys=[\"image\", \"label\"]),\n",
    "            transforms.Orientationd(keys=[\"image\", \"label\"], axcodes=\"RAS\"),\n",
    "            transforms.CropForegroundd(keys=[\"image\", \"label\"], source_key=\"image\"),\n",
    "            RandSpatialCropd(keys=[\"image\", \"label\"], roi_size=(96, 96, 96), random_size=False),\n",
    "            transforms.RandFlipd(keys=[\"image\", \"label\"], prob=0.2, spatial_axis=0),\n",
    "            transforms.RandFlipd(keys=[\"image\", \"label\"], prob=0.2, spatial_axis=1),\n",
    "            transforms.RandFlipd(keys=[\"image\", \"label\"], prob=0.2, spatial_axis=2),\n",
    "            transforms.RandRotate90d(keys=[\"image\", \"label\"], prob=0.2, max_k=3),\n",
    "            transforms.RandScaleIntensityd(keys=\"image\", factors=0.1, prob=0.1),\n",
    "            transforms.RandShiftIntensityd(keys=\"image\", offsets=0.1, prob=0.1),\n",
    "            transforms.ToTensord(keys=[\"image\", \"label\"]),\n",
    "        ]\n",
    "    )\n",
    "    val_transform = transforms.Compose(\n",
    "        [\n",
    "            transforms.LoadImaged(keys=[\"image\", \"label\"],image_only=True),\n",
    "            transforms.EnsureChannelFirstd(keys=[\"image\", \"label\"]),\n",
    "            transforms.Orientationd(keys=[\"image\", \"label\"], axcodes=\"RAS\"),\n",
    "            transforms.CropForegroundd(keys=[\"image\", \"label\"], source_key=\"image\"),\n",
    "            transforms.ToTensord(keys=[\"image\", \"label\"]),\n",
    "        ]\n",
    "    )\n",
    "\n",
    "    test_transform = transforms.Compose(\n",
    "        [\n",
    "            transforms.LoadImaged(keys=[\"image\", \"label\"],image_only=True),\n",
    "            transforms.EnsureChannelFirstd(keys=[\"image\", \"label\"]),\n",
    "            # transforms.Orientationd(keys=[\"image\"], axcodes=\"RAS\"),\n",
    "            transforms.ToTensord(keys=[\"image\", \"label\"]),\n",
    "        ]\n",
    "    )\n",
    "    \n",
    "    test_mode = False\n",
    "    distributed = False\n",
    "    use_normal_dataset = False\n",
    "    \n",
    "    if test_mode:\n",
    "        test_files = load_decathlon_datalist(datalist_json, True, \"validation\", base_dir=data_dir)\n",
    "        test_ds = data.Dataset(data=test_files, transform=test_transform)\n",
    "        test_sampler = Sampler(test_ds, shuffle=False) if distributed else None\n",
    "        test_loader = data.DataLoader(\n",
    "            test_ds,\n",
    "            batch_size=1,\n",
    "            shuffle=False,\n",
    "            num_workers=4,\n",
    "            sampler=test_sampler,\n",
    "            pin_memory=False,\n",
    "            persistent_workers=True,\n",
    "        )\n",
    "        loader = test_loader\n",
    "    else:\n",
    "        datalist = load_decathlon_datalist(datalist_json, True, \"training\", base_dir=data_dir)\n",
    "        if use_normal_dataset:\n",
    "            train_ds = data.Dataset(data=datalist, transform=train_transform)\n",
    "        else:\n",
    "            train_ds = data.CacheDataset(\n",
    "                data=datalist, transform=train_transform, cache_num=24, cache_rate=1.0, num_workers=4\n",
    "            )\n",
    "        train_sampler = Sampler(train_ds) if distributed else None\n",
    "        train_loader = data.DataLoader(\n",
    "            train_ds,\n",
    "            batch_size=1,\n",
    "            shuffle=(train_sampler is None),\n",
    "            num_workers=4,\n",
    "            sampler=train_sampler,\n",
    "            pin_memory=False,\n",
    "        )\n",
    "        val_files = load_decathlon_datalist(datalist_json, True, \"validation\", base_dir=data_dir)\n",
    "        val_ds = data.Dataset(data=val_files, transform=val_transform)\n",
    "        val_sampler = Sampler(val_ds, shuffle=False) if distributed else None\n",
    "        val_loader = data.DataLoader(\n",
    "            val_ds, batch_size=1, shuffle=False, num_workers=4, sampler=val_sampler, pin_memory=False\n",
    "        )\n",
    "        loader = [train_loader, val_loader]\n",
    "\n",
    "    return loader\n"
   ],
   "id": "c6b00d6c5835ba0b",
   "outputs": [],
   "execution_count": 111
  },
  {
   "metadata": {
    "ExecuteTime": {
     "end_time": "2024-06-12T20:20:04.472793Z",
     "start_time": "2024-06-12T20:19:15.538460Z"
    }
   },
   "cell_type": "code",
   "source": [
    "loader = get_loader()\n",
    "\n",
    "print(len(loader))\n",
    "train = []\n",
    "val = []\n",
    "\n",
    "for i, batch in enumerate(loader[0]):\n",
    "    train.append(batch)\n",
    "    \n",
    "for i, batch in enumerate(loader[1]):\n",
    "    val.append(batch) "
   ],
   "id": "defefd829801c9d1",
   "outputs": [
    {
     "name": "stderr",
     "output_type": "stream",
     "text": [
      "Loading dataset: 100%|██████████| 11/11 [00:15<00:00,  1.41s/it]"
     ]
    },
    {
     "name": "stdout",
     "output_type": "stream",
     "text": [
      "2\n"
     ]
    },
    {
     "name": "stderr",
     "output_type": "stream",
     "text": [
      "\n",
      "/Library/Frameworks/Python.framework/Versions/3.10/lib/python3.10/site-packages/monai/data/__init__.py:117: UserWarning: TypedStorage is deprecated. It will be removed in the future and UntypedStorage will be the only storage class. This should only matter to you if you are using storages directly.  To access UntypedStorage directly, use tensor.untyped_storage() instead of tensor.storage()\n",
      "  t = cls([], dtype=storage.dtype, device=storage.device)\n",
      "/Library/Frameworks/Python.framework/Versions/3.10/lib/python3.10/site-packages/monai/data/__init__.py:117: UserWarning: TypedStorage is deprecated. It will be removed in the future and UntypedStorage will be the only storage class. This should only matter to you if you are using storages directly.  To access UntypedStorage directly, use tensor.untyped_storage() instead of tensor.storage()\n",
      "  t = cls([], dtype=storage.dtype, device=storage.device)\n",
      "/Library/Frameworks/Python.framework/Versions/3.10/lib/python3.10/site-packages/monai/data/__init__.py:117: UserWarning: TypedStorage is deprecated. It will be removed in the future and UntypedStorage will be the only storage class. This should only matter to you if you are using storages directly.  To access UntypedStorage directly, use tensor.untyped_storage() instead of tensor.storage()\n",
      "  t = cls([], dtype=storage.dtype, device=storage.device)\n",
      "/Library/Frameworks/Python.framework/Versions/3.10/lib/python3.10/site-packages/monai/data/__init__.py:117: UserWarning: TypedStorage is deprecated. It will be removed in the future and UntypedStorage will be the only storage class. This should only matter to you if you are using storages directly.  To access UntypedStorage directly, use tensor.untyped_storage() instead of tensor.storage()\n",
      "  t = cls([], dtype=storage.dtype, device=storage.device)\n"
     ]
    }
   ],
   "execution_count": 62
  },
  {
   "metadata": {
    "ExecuteTime": {
     "end_time": "2024-06-12T21:58:28.369524Z",
     "start_time": "2024-06-12T21:58:28.346826Z"
    }
   },
   "cell_type": "code",
   "source": "train[0]['image']",
   "id": "1f9844844f1b1b37",
   "outputs": [
    {
     "data": {
      "text/plain": [
       "tensor([[[[[1.6667e-01, 1.6667e-01, 1.6667e-01,  ..., 1.6667e-01,\n",
       "            1.6667e-01, 1.6667e-01],\n",
       "           [1.6667e-01, 1.6667e-01, 1.6667e-01,  ..., 1.6667e-01,\n",
       "            1.6667e-01, 1.6667e-01],\n",
       "           [1.6667e-01, 1.6667e-01, 1.6667e-01,  ..., 1.6667e-01,\n",
       "            1.6667e-01, 1.6667e-01],\n",
       "           ...,\n",
       "           [1.6667e-01, 1.6667e-01, 1.6667e-01,  ..., 1.6667e-01,\n",
       "            1.6667e-01, 1.6667e-01],\n",
       "           [1.6667e-01, 1.6667e-01, 1.6667e-01,  ..., 1.6667e-01,\n",
       "            1.6667e-01, 1.6667e-01],\n",
       "           [1.6667e-01, 1.6667e-01, 1.6667e-01,  ..., 1.6667e-01,\n",
       "            1.6667e-01, 1.6667e-01]],\n",
       "\n",
       "          [[1.6667e-01, 1.6667e-01, 1.6667e-01,  ..., 1.6667e-01,\n",
       "            1.6667e-01, 1.6667e-01],\n",
       "           [1.6667e-01, 1.6667e-01, 1.6667e-01,  ..., 1.6667e-01,\n",
       "            1.6667e-01, 1.6667e-01],\n",
       "           [1.6667e-01, 1.6667e-01, 1.6667e-01,  ..., 1.6667e-01,\n",
       "            1.6667e-01, 1.6667e-01],\n",
       "           ...,\n",
       "           [1.6667e-01, 1.6667e-01, 1.6667e-01,  ..., 1.6667e-01,\n",
       "            1.6667e-01, 1.6667e-01],\n",
       "           [1.6667e-01, 1.6667e-01, 1.6667e-01,  ..., 1.6667e-01,\n",
       "            1.6667e-01, 1.6667e-01],\n",
       "           [1.6667e-01, 1.6667e-01, 1.6667e-01,  ..., 1.6667e-01,\n",
       "            1.6667e-01, 1.6667e-01]],\n",
       "\n",
       "          [[1.6667e-01, 1.6667e-01, 1.6667e-01,  ..., 1.6667e-01,\n",
       "            1.6667e-01, 1.6667e-01],\n",
       "           [1.6667e-01, 1.6667e-01, 1.6667e-01,  ..., 1.6667e-01,\n",
       "            1.6667e-01, 1.6667e-01],\n",
       "           [1.6667e-01, 1.6667e-01, 1.6667e-01,  ..., 1.6667e-01,\n",
       "            1.6667e-01, 1.6667e-01],\n",
       "           ...,\n",
       "           [1.6667e-01, 1.6667e-01, 1.6667e-01,  ..., 1.6667e-01,\n",
       "            1.6667e-01, 1.6667e-01],\n",
       "           [1.6667e-01, 1.6667e-01, 1.6667e-01,  ..., 1.6667e-01,\n",
       "            1.6667e-01, 1.6667e-01],\n",
       "           [1.6667e-01, 1.6667e-01, 1.6667e-01,  ..., 1.6667e-01,\n",
       "            1.6667e-01, 1.6667e-01]],\n",
       "\n",
       "          ...,\n",
       "\n",
       "          [[1.3917e-01, 1.8083e-01, 2.0583e-01,  ..., 2.1333e-01,\n",
       "            2.3750e-01, 2.0750e-01],\n",
       "           [1.8083e-01, 1.8917e-01, 1.5417e-01,  ..., 2.4583e-01,\n",
       "            2.4750e-01, 2.2667e-01],\n",
       "           [2.0917e-01, 1.7750e-01, 1.5333e-01,  ..., 2.2500e-01,\n",
       "            2.2667e-01, 2.1583e-01],\n",
       "           ...,\n",
       "           [1.6667e-01, 1.6667e-01, 1.6667e-01,  ..., 1.6667e-01,\n",
       "            1.6667e-01, 1.6667e-01],\n",
       "           [1.6667e-01, 1.6667e-01, 1.6667e-01,  ..., 1.6667e-01,\n",
       "            1.6667e-01, 1.6667e-01],\n",
       "           [1.6667e-01, 1.6667e-01, 1.6667e-01,  ..., 1.6667e-01,\n",
       "            1.6667e-01, 1.6667e-01]],\n",
       "\n",
       "          [[1.3917e-01, 1.5417e-01, 1.5750e-01,  ..., 2.0417e-01,\n",
       "            2.1667e-01, 2.0667e-01],\n",
       "           [2.0417e-01, 2.2000e-01, 1.8667e-01,  ..., 2.1500e-01,\n",
       "            2.1750e-01, 2.1333e-01],\n",
       "           [2.0333e-01, 2.0167e-01, 1.8000e-01,  ..., 2.3333e-01,\n",
       "            2.2917e-01, 2.2417e-01],\n",
       "           ...,\n",
       "           [1.6667e-01, 1.6667e-01, 1.6667e-01,  ..., 1.6667e-01,\n",
       "            1.6667e-01, 1.6667e-01],\n",
       "           [1.6667e-01, 1.6667e-01, 1.6667e-01,  ..., 1.6667e-01,\n",
       "            1.6667e-01, 1.6667e-01],\n",
       "           [1.6667e-01, 1.6667e-01, 1.6667e-01,  ..., 1.6667e-01,\n",
       "            1.6667e-01, 1.6667e-01]],\n",
       "\n",
       "          [[1.8833e-01, 1.6000e-01, 1.7083e-01,  ..., 2.3417e-01,\n",
       "            2.1500e-01, 2.0833e-01],\n",
       "           [2.0583e-01, 1.8750e-01, 1.7583e-01,  ..., 1.9250e-01,\n",
       "            1.9750e-01, 2.1417e-01],\n",
       "           [1.9833e-01, 1.5250e-01, 1.5167e-01,  ..., 1.9833e-01,\n",
       "            2.0583e-01, 2.2833e-01],\n",
       "           ...,\n",
       "           [1.6667e-01, 1.6667e-01, 1.6667e-01,  ..., 1.6667e-01,\n",
       "            1.6667e-01, 1.6667e-01],\n",
       "           [1.6667e-01, 1.6667e-01, 1.6667e-01,  ..., 1.6667e-01,\n",
       "            1.6667e-01, 1.6667e-01],\n",
       "           [1.6667e-01, 1.6667e-01, 1.6667e-01,  ..., 1.6667e-01,\n",
       "            1.6667e-01, 1.6667e-01]]],\n",
       "\n",
       "\n",
       "         [[[0.0000e+00, 0.0000e+00, 0.0000e+00,  ..., 0.0000e+00,\n",
       "            0.0000e+00, 0.0000e+00],\n",
       "           [0.0000e+00, 0.0000e+00, 0.0000e+00,  ..., 0.0000e+00,\n",
       "            0.0000e+00, 0.0000e+00],\n",
       "           [0.0000e+00, 0.0000e+00, 0.0000e+00,  ..., 0.0000e+00,\n",
       "            0.0000e+00, 0.0000e+00],\n",
       "           ...,\n",
       "           [0.0000e+00, 0.0000e+00, 0.0000e+00,  ..., 0.0000e+00,\n",
       "            0.0000e+00, 0.0000e+00],\n",
       "           [0.0000e+00, 0.0000e+00, 0.0000e+00,  ..., 0.0000e+00,\n",
       "            0.0000e+00, 0.0000e+00],\n",
       "           [0.0000e+00, 0.0000e+00, 0.0000e+00,  ..., 0.0000e+00,\n",
       "            0.0000e+00, 0.0000e+00]],\n",
       "\n",
       "          [[0.0000e+00, 0.0000e+00, 0.0000e+00,  ..., 0.0000e+00,\n",
       "            0.0000e+00, 0.0000e+00],\n",
       "           [0.0000e+00, 0.0000e+00, 0.0000e+00,  ..., 0.0000e+00,\n",
       "            0.0000e+00, 0.0000e+00],\n",
       "           [0.0000e+00, 0.0000e+00, 0.0000e+00,  ..., 0.0000e+00,\n",
       "            0.0000e+00, 0.0000e+00],\n",
       "           ...,\n",
       "           [0.0000e+00, 0.0000e+00, 0.0000e+00,  ..., 0.0000e+00,\n",
       "            0.0000e+00, 0.0000e+00],\n",
       "           [0.0000e+00, 0.0000e+00, 0.0000e+00,  ..., 0.0000e+00,\n",
       "            0.0000e+00, 0.0000e+00],\n",
       "           [0.0000e+00, 0.0000e+00, 0.0000e+00,  ..., 0.0000e+00,\n",
       "            0.0000e+00, 0.0000e+00]],\n",
       "\n",
       "          [[0.0000e+00, 0.0000e+00, 0.0000e+00,  ..., 0.0000e+00,\n",
       "            0.0000e+00, 0.0000e+00],\n",
       "           [0.0000e+00, 0.0000e+00, 0.0000e+00,  ..., 0.0000e+00,\n",
       "            0.0000e+00, 0.0000e+00],\n",
       "           [0.0000e+00, 0.0000e+00, 0.0000e+00,  ..., 0.0000e+00,\n",
       "            0.0000e+00, 0.0000e+00],\n",
       "           ...,\n",
       "           [0.0000e+00, 0.0000e+00, 0.0000e+00,  ..., 0.0000e+00,\n",
       "            0.0000e+00, 0.0000e+00],\n",
       "           [0.0000e+00, 0.0000e+00, 0.0000e+00,  ..., 0.0000e+00,\n",
       "            0.0000e+00, 0.0000e+00],\n",
       "           [0.0000e+00, 0.0000e+00, 0.0000e+00,  ..., 0.0000e+00,\n",
       "            0.0000e+00, 0.0000e+00]],\n",
       "\n",
       "          ...,\n",
       "\n",
       "          [[1.2665e-02, 1.2268e-02, 8.3010e-03,  ..., 1.1811e-02,\n",
       "            1.1292e-02, 1.0407e-02],\n",
       "           [1.0315e-02, 1.0987e-02, 8.3010e-03,  ..., 1.3489e-02,\n",
       "            1.2513e-02, 1.1994e-02],\n",
       "           [1.2329e-02, 1.2329e-02, 9.2166e-03,  ..., 1.2299e-02,\n",
       "            1.1963e-02, 1.3977e-02],\n",
       "           ...,\n",
       "           [9.1556e-05, 9.1556e-05, 1.2207e-04,  ..., 2.1363e-04,\n",
       "            1.5259e-04, 1.8311e-04],\n",
       "           [1.2207e-04, 1.2207e-04, 1.2207e-04,  ..., 1.5259e-04,\n",
       "            1.8311e-04, 2.7467e-04],\n",
       "           [1.2207e-04, 1.2207e-04, 1.5259e-04,  ..., 1.8311e-04,\n",
       "            2.4415e-04, 3.0519e-04]],\n",
       "\n",
       "          [[1.2146e-02, 1.2055e-02, 7.6601e-03,  ..., 9.8270e-03,\n",
       "            9.8575e-03, 1.0956e-02],\n",
       "           [1.2726e-02, 1.5015e-02, 1.0071e-02,  ..., 1.1505e-02,\n",
       "            1.0926e-02, 1.2543e-02],\n",
       "           [1.1750e-02, 1.3550e-02, 9.5218e-03,  ..., 1.1780e-02,\n",
       "            1.1597e-02, 1.4496e-02],\n",
       "           ...,\n",
       "           [1.2207e-04, 1.2207e-04, 1.2207e-04,  ..., 2.7467e-04,\n",
       "            1.8311e-04, 2.4415e-04],\n",
       "           [1.8311e-04, 1.8311e-04, 1.5259e-04,  ..., 2.4415e-04,\n",
       "            2.7467e-04, 3.9674e-04],\n",
       "           [3.0519e-04, 3.0519e-04, 2.4415e-04,  ..., 3.0519e-04,\n",
       "            3.6622e-04, 3.3570e-04]],\n",
       "\n",
       "          [[8.1484e-03, 8.6367e-03, 6.8667e-03,  ..., 1.0804e-02,\n",
       "            1.0254e-02, 1.0224e-02],\n",
       "           [1.0193e-02, 1.1841e-02, 8.4231e-03,  ..., 1.0437e-02,\n",
       "            9.6744e-03, 1.0773e-02],\n",
       "           [1.0102e-02, 1.3031e-02, 9.3997e-03,  ..., 1.2055e-02,\n",
       "            1.2024e-02, 1.4313e-02],\n",
       "           ...,\n",
       "           [1.5259e-04, 1.8311e-04, 1.5259e-04,  ..., 3.6622e-04,\n",
       "            2.7467e-04, 3.3570e-04],\n",
       "           [2.7467e-04, 2.7467e-04, 2.4415e-04,  ..., 3.3570e-04,\n",
       "            3.6622e-04, 4.2726e-04],\n",
       "           [4.5778e-04, 4.5778e-04, 3.3570e-04,  ..., 4.8830e-04,\n",
       "            5.4933e-04, 3.6622e-04]]]]])"
      ]
     },
     "execution_count": 112,
     "metadata": {},
     "output_type": "execute_result"
    }
   ],
   "execution_count": 112
  },
  {
   "metadata": {
    "ExecuteTime": {
     "end_time": "2024-06-12T21:59:27.428232Z",
     "start_time": "2024-06-12T21:59:27.290517Z"
    }
   },
   "cell_type": "code",
   "source": "torch.unique(train[0]['label'].flatten().sort()[0])",
   "id": "ed994f84625ff9e",
   "outputs": [
    {
     "data": {
      "text/plain": [
       "tensor([0.0000e+00, 1.2757e-02, 1.4838e-02,  ..., 4.0169e+01, 4.1068e+01,\n",
       "        4.5346e+01])"
      ]
     },
     "execution_count": 115,
     "metadata": {},
     "output_type": "execute_result"
    }
   ],
   "execution_count": 115
  },
  {
   "metadata": {
    "ExecuteTime": {
     "end_time": "2024-06-12T20:00:38.778317Z",
     "start_time": "2024-06-12T20:00:38.744164Z"
    }
   },
   "cell_type": "code",
   "source": "val[0]['image'].shape",
   "id": "b02b35c931a3d2f5",
   "outputs": [
    {
     "data": {
      "text/plain": [
       "torch.Size([1, 2, 156, 156, 290])"
      ]
     },
     "execution_count": 55,
     "metadata": {},
     "output_type": "execute_result"
    }
   ],
   "execution_count": 55
  },
  {
   "metadata": {
    "ExecuteTime": {
     "end_time": "2024-06-12T20:38:47.479377Z",
     "start_time": "2024-06-12T20:38:47.358866Z"
    }
   },
   "cell_type": "code",
   "source": [
    "# Assume these were the min and max values used during normalization\n",
    "ct_hu_min, ct_hu_max = -200, 1000\n",
    "pet_hu_min, pet_hu_max = 0, 100\n",
    "\n",
    "# Reverse normalization function\n",
    "def reverse_normalize(data, min_val, max_val):\n",
    "    return data * (max_val - min_val) + min_val\n",
    "\n",
    "# Get the first batch\n",
    "image = train[0]['image']\n",
    "label = train[0]['label']\n",
    "\n",
    "# Reverse normalize the image and label\n",
    "image_original = reverse_normalize(image.numpy(), ct_hu_min, ct_hu_max)\n",
    "label_original = reverse_normalize(label.numpy(), pet_hu_min, pet_hu_max)\n",
    "\n",
    "print(\"Original Image Mean:\", image_original.flatten().mean())\n",
    "print(\"Original Label Mean:\", label_original.flatten().mean())"
   ],
   "id": "f7f39e5d97904686",
   "outputs": [
    {
     "name": "stdout",
     "output_type": "stream",
     "text": [
      "Original Image Mean: -137.31337\n",
      "Original Label Mean: 44.245487\n"
     ]
    }
   ],
   "execution_count": 64
  },
  {
   "metadata": {
    "ExecuteTime": {
     "end_time": "2024-06-12T20:46:30.296420Z",
     "start_time": "2024-06-12T20:46:30.284292Z"
    }
   },
   "cell_type": "code",
   "source": "len(label_original.flatten())",
   "id": "3b374d8d454a1a79",
   "outputs": [
    {
     "data": {
      "text/plain": [
       "884736"
      ]
     },
     "execution_count": 72,
     "metadata": {},
     "output_type": "execute_result"
    }
   ],
   "execution_count": 72
  },
  {
   "metadata": {
    "ExecuteTime": {
     "end_time": "2024-06-12T21:24:11.183674Z",
     "start_time": "2024-06-12T21:24:11.166430Z"
    }
   },
   "cell_type": "code",
   "source": [
    "num_zeros = np.sum(label_original.flatten() < 20)\n",
    "print(\"Number of zeros in the label:\", num_zeros)"
   ],
   "id": "5915ade4884e56a9",
   "outputs": [
    {
     "name": "stdout",
     "output_type": "stream",
     "text": [
      "Number of zeros in the label: 526821\n"
     ]
    }
   ],
   "execution_count": 98
  },
  {
   "metadata": {
    "ExecuteTime": {
     "end_time": "2024-06-12T20:49:25.241800Z",
     "start_time": "2024-06-12T20:49:19.621108Z"
    }
   },
   "cell_type": "code",
   "source": [
    "import matplotlib.pyplot as plt\n",
    "\n",
    "# Flatten the label array\n",
    "label_flattened = label_original.flatten()\n",
    "\n",
    "# Draw the histogram\n",
    "plt.hist(label_flattened, bins=5000, edgecolor='black')\n",
    "plt.title('Histogram of label_original values')\n",
    "plt.xlabel('Value')\n",
    "plt.ylabel('Frequency')\n",
    "plt.show()"
   ],
   "id": "3d8245d8e4ecf51c",
   "outputs": [
    {
     "data": {
      "text/plain": [
       "<Figure size 640x480 with 1 Axes>"
      ],
      "image/png": "[encoded data removed]"
     },
     "metadata": {},
     "output_type": "display_data"
    }
   ],
   "execution_count": 78
  },
  {
   "metadata": {
    "ExecuteTime": {
     "end_time": "2024-06-12T20:46:05.127471Z",
     "start_time": "2024-06-12T20:46:04.766768Z"
    }
   },
   "cell_type": "code",
   "source": [
    "# Find unique values and sort them in ascending order\n",
    "unique_image_values = np.unique(image_original)\n",
    "unique_label_values = np.unique(label_original)\n",
    "\n",
    "# Print unique values\n",
    "print(\"Unique Image Values (ascending):\", unique_image_values)\n",
    "print(\"Unique Label Values (ascending):\", unique_label_values)"
   ],
   "id": "c8ab2cfac22c800a",
   "outputs": [
    {
     "name": "stdout",
     "output_type": "stream",
     "text": [
      "Unique Image Values (ascending): [-200.      -199.96338 -199.92676 ...  998.       999.      1000.     ]\n",
      "Unique Label Values (ascending): [0.0000000e+00 1.2756839e+00 1.4837977e+00 ... 4.0169412e+03 4.1068296e+03\n",
      " 4.5346338e+03]\n"
     ]
    }
   ],
   "execution_count": 71
  },
  {
   "metadata": {
    "ExecuteTime": {
     "end_time": "2024-06-12T21:30:32.804220Z",
     "start_time": "2024-06-12T21:30:32.794157Z"
    }
   },
   "cell_type": "code",
   "source": "len(unique_label_values)",
   "id": "99d80c818eb4978f",
   "outputs": [
    {
     "data": {
      "text/plain": [
       "295933"
      ]
     },
     "execution_count": 110,
     "metadata": {},
     "output_type": "execute_result"
    }
   ],
   "execution_count": 110
  },
  {
   "metadata": {
    "ExecuteTime": {
     "end_time": "2024-06-12T21:25:38.315428Z",
     "start_time": "2024-06-12T21:25:38.272724Z"
    }
   },
   "cell_type": "code",
   "source": [
    "import numpy as np\n",
    "\n",
    "y_true = np.array([23, 53, 63, 45, 23, 57, 75, 100, 23, 34])\n",
    "y_pred = np.array([20, 23, 50, 30, 23, 13, 75, 78, 24, 99])\n",
    "\n",
    "# Flatten the arrays to ensure element-wise operations\n",
    "y_true = y_true.flatten()\n",
    "y_pred = y_pred.flatten()\n",
    "\n",
    "# Filter out zero values in y_true\n",
    "mask = y_true != 0\n",
    "y_true = y_true[mask]\n",
    "y_pred = y_pred[mask]\n",
    "\n",
    "# Calculate the numerator and denominator\n",
    "numerator = np.abs(y_true - y_pred)\n",
    "denominator = np.abs(y_true) + np.abs(y_pred)\n",
    "\n",
    "\n",
    "# Calculate sMAPE\n",
    "smape = np.mean(2.0 * numerator / denominator) * 100\n",
    "\n",
    "print(\"sMAPE:\", smape)\n"
   ],
   "id": "47491316f4f925c7",
   "outputs": [
    {
     "name": "stdout",
     "output_type": "stream",
     "text": [
      "sMAPE: 40.83427732397408\n"
     ]
    }
   ],
   "execution_count": 105
  },
  {
   "metadata": {
    "ExecuteTime": {
     "end_time": "2024-06-12T21:25:40.445951Z",
     "start_time": "2024-06-12T21:25:40.425965Z"
    }
   },
   "cell_type": "code",
   "source": "numerator",
   "id": "efecdeaef08486f3",
   "outputs": [
    {
     "data": {
      "text/plain": [
       "array([ 3, 30, 13, 15,  0, 44,  0, 22,  1, 65])"
      ]
     },
     "execution_count": 106,
     "metadata": {},
     "output_type": "execute_result"
    }
   ],
   "execution_count": 106
  },
  {
   "metadata": {
    "ExecuteTime": {
     "end_time": "2024-06-12T21:25:41.065415Z",
     "start_time": "2024-06-12T21:25:41.032722Z"
    }
   },
   "cell_type": "code",
   "source": "denominator",
   "id": "ce185ac38f710667",
   "outputs": [
    {
     "data": {
      "text/plain": [
       "array([ 43,  76, 113,  75,  46,  70, 150, 178,  47, 133])"
      ]
     },
     "execution_count": 107,
     "metadata": {},
     "output_type": "execute_result"
    }
   ],
   "execution_count": 107
  },
  {
   "metadata": {
    "ExecuteTime": {
     "end_time": "2024-06-06T15:31:12.297316Z",
     "start_time": "2024-06-06T15:31:07.951298Z"
    }
   },
   "cell_type": "code",
   "source": [
    "\n",
    "# Print the affine matrices for the first batch\n",
    "for i, batch in enumerate(loader):\n",
    "    for j in range(len(batch[\"image\"])):\n",
    "        print(f\"Batch {i}, Image {j} Affine:\\n\", batch[\"image_meta_dict\"][\"affine\"][j])\n",
    "        print(f\"Batch {i}, Label {j} Affine:\\n\", batch[\"label_meta_dict\"][\"affine\"][j])\n",
    "    if i == 0:  # Just print the first batch for brevity\n",
    "        break"
   ],
   "id": "bc854b26fb670afa",
   "outputs": [
    {
     "name": "stdout",
     "output_type": "stream",
     "text": [
      "Batch 0, Image 0 Affine:\n",
      " tensor([[ -4.0728,   0.0000,   0.0000, 338.8047],\n",
      "        [  0.0000,  -4.0728,   0.0000, 512.1872],\n",
      "        [  0.0000,   0.0000,   3.0000, 215.5000],\n",
      "        [  0.0000,   0.0000,   0.0000,   1.0000]], dtype=torch.float64)\n",
      "Batch 0, Label 0 Affine:\n",
      " tensor([[ -4.0728,   0.0000,   0.0000, 338.8047],\n",
      "        [  0.0000,  -4.0728,   0.0000, 512.1872],\n",
      "        [  0.0000,   0.0000,   3.0000, 215.5000],\n",
      "        [  0.0000,   0.0000,   0.0000,   1.0000]], dtype=torch.float64)\n",
      "Batch 0, Image 1 Affine:\n",
      " tensor([[ -4.0728,   0.0000,   0.0000, 338.8047],\n",
      "        [  0.0000,  -4.0728,   0.0000, 512.1872],\n",
      "        [  0.0000,   0.0000,   3.0000, 215.5000],\n",
      "        [  0.0000,   0.0000,   0.0000,   1.0000]], dtype=torch.float64)\n",
      "Batch 0, Label 1 Affine:\n",
      " tensor([[ -4.0728,   0.0000,   0.0000, 338.8047],\n",
      "        [  0.0000,  -4.0728,   0.0000, 512.1872],\n",
      "        [  0.0000,   0.0000,   3.0000, 215.5000],\n",
      "        [  0.0000,   0.0000,   0.0000,   1.0000]], dtype=torch.float64)\n",
      "Batch 0, Image 2 Affine:\n",
      " tensor([[ -4.0728,   0.0000,   0.0000, 338.8047],\n",
      "        [  0.0000,  -4.0728,   0.0000, 512.1872],\n",
      "        [  0.0000,   0.0000,   3.0000, 215.5000],\n",
      "        [  0.0000,   0.0000,   0.0000,   1.0000]], dtype=torch.float64)\n",
      "Batch 0, Label 2 Affine:\n",
      " tensor([[ -4.0728,   0.0000,   0.0000, 338.8047],\n",
      "        [  0.0000,  -4.0728,   0.0000, 512.1872],\n",
      "        [  0.0000,   0.0000,   3.0000, 215.5000],\n",
      "        [  0.0000,   0.0000,   0.0000,   1.0000]], dtype=torch.float64)\n",
      "Batch 0, Image 3 Affine:\n",
      " tensor([[ -4.0728,   0.0000,   0.0000, 338.8047],\n",
      "        [  0.0000,  -4.0728,   0.0000, 512.1872],\n",
      "        [  0.0000,   0.0000,   3.0000, 215.5000],\n",
      "        [  0.0000,   0.0000,   0.0000,   1.0000]], dtype=torch.float64)\n",
      "Batch 0, Label 3 Affine:\n",
      " tensor([[ -4.0728,   0.0000,   0.0000, 338.8047],\n",
      "        [  0.0000,  -4.0728,   0.0000, 512.1872],\n",
      "        [  0.0000,   0.0000,   3.0000, 215.5000],\n",
      "        [  0.0000,   0.0000,   0.0000,   1.0000]], dtype=torch.float64)\n",
      "Batch 0, Image 4 Affine:\n",
      " tensor([[-4.0728e+00,  0.0000e+00,  0.0000e+00,  3.4136e+02],\n",
      "        [ 0.0000e+00, -4.0728e+00,  0.0000e+00,  5.3519e+02],\n",
      "        [ 0.0000e+00,  0.0000e+00,  3.0000e+00, -1.3810e+03],\n",
      "        [ 0.0000e+00,  0.0000e+00,  0.0000e+00,  1.0000e+00]],\n",
      "       dtype=torch.float64)\n",
      "Batch 0, Label 4 Affine:\n",
      " tensor([[-4.0728e+00,  0.0000e+00,  0.0000e+00,  3.4136e+02],\n",
      "        [ 0.0000e+00, -4.0728e+00,  0.0000e+00,  5.3519e+02],\n",
      "        [ 0.0000e+00,  0.0000e+00,  3.0000e+00, -1.3810e+03],\n",
      "        [ 0.0000e+00,  0.0000e+00,  0.0000e+00,  1.0000e+00]],\n",
      "       dtype=torch.float64)\n",
      "Batch 0, Image 5 Affine:\n",
      " tensor([[-4.0728e+00,  0.0000e+00,  0.0000e+00,  3.4136e+02],\n",
      "        [ 0.0000e+00, -4.0728e+00,  0.0000e+00,  5.3519e+02],\n",
      "        [ 0.0000e+00,  0.0000e+00,  3.0000e+00, -1.3810e+03],\n",
      "        [ 0.0000e+00,  0.0000e+00,  0.0000e+00,  1.0000e+00]],\n",
      "       dtype=torch.float64)\n",
      "Batch 0, Label 5 Affine:\n",
      " tensor([[-4.0728e+00,  0.0000e+00,  0.0000e+00,  3.4136e+02],\n",
      "        [ 0.0000e+00, -4.0728e+00,  0.0000e+00,  5.3519e+02],\n",
      "        [ 0.0000e+00,  0.0000e+00,  3.0000e+00, -1.3810e+03],\n",
      "        [ 0.0000e+00,  0.0000e+00,  0.0000e+00,  1.0000e+00]],\n",
      "       dtype=torch.float64)\n",
      "Batch 0, Image 6 Affine:\n",
      " tensor([[-4.0728e+00,  0.0000e+00,  0.0000e+00,  3.4136e+02],\n",
      "        [ 0.0000e+00, -4.0728e+00,  0.0000e+00,  5.3519e+02],\n",
      "        [ 0.0000e+00,  0.0000e+00,  3.0000e+00, -1.3810e+03],\n",
      "        [ 0.0000e+00,  0.0000e+00,  0.0000e+00,  1.0000e+00]],\n",
      "       dtype=torch.float64)\n",
      "Batch 0, Label 6 Affine:\n",
      " tensor([[-4.0728e+00,  0.0000e+00,  0.0000e+00,  3.4136e+02],\n",
      "        [ 0.0000e+00, -4.0728e+00,  0.0000e+00,  5.3519e+02],\n",
      "        [ 0.0000e+00,  0.0000e+00,  3.0000e+00, -1.3810e+03],\n",
      "        [ 0.0000e+00,  0.0000e+00,  0.0000e+00,  1.0000e+00]],\n",
      "       dtype=torch.float64)\n",
      "Batch 0, Image 7 Affine:\n",
      " tensor([[-4.0728e+00,  0.0000e+00,  0.0000e+00,  3.4136e+02],\n",
      "        [ 0.0000e+00, -4.0728e+00,  0.0000e+00,  5.3519e+02],\n",
      "        [ 0.0000e+00,  0.0000e+00,  3.0000e+00, -1.3810e+03],\n",
      "        [ 0.0000e+00,  0.0000e+00,  0.0000e+00,  1.0000e+00]],\n",
      "       dtype=torch.float64)\n",
      "Batch 0, Label 7 Affine:\n",
      " tensor([[-4.0728e+00,  0.0000e+00,  0.0000e+00,  3.4136e+02],\n",
      "        [ 0.0000e+00, -4.0728e+00,  0.0000e+00,  5.3519e+02],\n",
      "        [ 0.0000e+00,  0.0000e+00,  3.0000e+00, -1.3810e+03],\n",
      "        [ 0.0000e+00,  0.0000e+00,  0.0000e+00,  1.0000e+00]],\n",
      "       dtype=torch.float64)\n"
     ]
    }
   ],
   "execution_count": 20
  },
  {
   "metadata": {
    "ExecuteTime": {
     "end_time": "2024-06-06T13:41:44.239909Z",
     "start_time": "2024-06-06T13:41:44.232473Z"
    }
   },
   "cell_type": "code",
   "source": "print(batches[0].keys())",
   "id": "cfea15cdbf9260e4",
   "outputs": [
    {
     "name": "stdout",
     "output_type": "stream",
     "text": [
      "dict_keys(['image', 'label', 'image_meta_dict', 'label_meta_dict', 'foreground_start_coord', 'foreground_end_coord'])\n"
     ]
    }
   ],
   "execution_count": 147
  },
  {
   "metadata": {
    "ExecuteTime": {
     "end_time": "2024-06-05T17:53:57.776566Z",
     "start_time": "2024-06-05T17:53:57.750053Z"
    }
   },
   "cell_type": "code",
   "source": "batches[0]['image_meta_dict']",
   "id": "bc49300462613f89",
   "outputs": [
    {
     "data": {
      "text/plain": [
       "{'sizeof_hdr': tensor([348], dtype=torch.int32),\n",
       " 'extents': tensor([0], dtype=torch.int32),\n",
       " 'session_error': tensor([0], dtype=torch.int16),\n",
       " 'dim_info': tensor([0], dtype=torch.uint8),\n",
       " 'dim': tensor([[  3, 168, 168, 324,   1,   1,   1,   1]], dtype=torch.int16),\n",
       " 'intent_p1': tensor([0.]),\n",
       " 'intent_p2': tensor([0.]),\n",
       " 'intent_p3': tensor([0.]),\n",
       " 'intent_code': tensor([0], dtype=torch.int16),\n",
       " 'datatype': tensor([64], dtype=torch.int16),\n",
       " 'bitpix': tensor([64], dtype=torch.int16),\n",
       " 'slice_start': tensor([0], dtype=torch.int16),\n",
       " 'pixdim': tensor([[1.0000, 4.0728, 4.0728, 3.0000, 0.0000, 0.0000, 0.0000, 0.0000]]),\n",
       " 'vox_offset': tensor([0.]),\n",
       " 'scl_slope': tensor([nan]),\n",
       " 'scl_inter': tensor([nan]),\n",
       " 'slice_end': tensor([0], dtype=torch.int16),\n",
       " 'slice_code': tensor([0], dtype=torch.uint8),\n",
       " 'xyzt_units': tensor([2], dtype=torch.uint8),\n",
       " 'cal_max': tensor([0.]),\n",
       " 'cal_min': tensor([0.]),\n",
       " 'slice_duration': tensor([0.]),\n",
       " 'toffset': tensor([0.]),\n",
       " 'glmax': tensor([0], dtype=torch.int32),\n",
       " 'glmin': tensor([0], dtype=torch.int32),\n",
       " 'qform_code': tensor([1], dtype=torch.int16),\n",
       " 'sform_code': tensor([1], dtype=torch.int16),\n",
       " 'quatern_b': tensor([0.]),\n",
       " 'quatern_c': tensor([0.]),\n",
       " 'quatern_d': tensor([1.]),\n",
       " 'qoffset_x': tensor([341.3579]),\n",
       " 'qoffset_y': tensor([524.1872]),\n",
       " 'qoffset_z': tensor([-1367.5000]),\n",
       " 'srow_x': tensor([[ -4.0728,   0.0000,   0.0000, 341.3579]]),\n",
       " 'srow_y': tensor([[  0.0000,  -4.0728,   0.0000, 524.1872]]),\n",
       " 'srow_z': tensor([[    0.0000,     0.0000,     3.0000, -1367.5000]]),\n",
       " 'affine': tensor([[[-4.0728e+00,  0.0000e+00,  0.0000e+00,  3.4136e+02],\n",
       "          [ 0.0000e+00, -4.0728e+00,  0.0000e+00,  5.2419e+02],\n",
       "          [ 0.0000e+00,  0.0000e+00,  3.0000e+00, -1.3675e+03],\n",
       "          [ 0.0000e+00,  0.0000e+00,  0.0000e+00,  1.0000e+00]]],\n",
       "        dtype=torch.float64),\n",
       " 'original_affine': tensor([[[-4.0728e+00,  0.0000e+00,  0.0000e+00,  3.4136e+02],\n",
       "          [ 0.0000e+00, -4.0728e+00,  0.0000e+00,  5.2419e+02],\n",
       "          [ 0.0000e+00,  0.0000e+00,  3.0000e+00, -1.3675e+03],\n",
       "          [ 0.0000e+00,  0.0000e+00,  0.0000e+00,  1.0000e+00]]],\n",
       "        dtype=torch.float64),\n",
       " 'as_closest_canonical': tensor([False]),\n",
       " 'spatial_shape': tensor([[168, 168, 324]], dtype=torch.int16),\n",
       " 'original_channel_dim': tensor([0]),\n",
       " 'filename_or_obj': ['/Users/aryanneizehbaz/Aryan8221/coding_projects/SSL-OARs-Tumor-Segmentation-in-PETCT/Dosimetry_Finetune/masked_data/CT/CT551.nii.gz']}"
      ]
     },
     "execution_count": 119,
     "metadata": {},
     "output_type": "execute_result"
    }
   ],
   "execution_count": 119
  },
  {
   "metadata": {
    "ExecuteTime": {
     "end_time": "2024-06-05T16:54:36.462724Z",
     "start_time": "2024-06-05T16:54:04.341250Z"
    }
   },
   "cell_type": "code",
   "source": [
    "for i, batch in enumerate(loader[1]):\n",
    "    print(f\"Batch {i+1}:\")\n",
    "    for key in batch.keys():\n",
    "        print(f\"Key: {key}\")\n",
    "        if isinstance(batch[key], dict):\n",
    "            for meta_key in batch[key].keys():\n",
    "                print(f\"  Meta Key: {meta_key}\")\n",
    "                if isinstance(batch[key][meta_key], dict):\n",
    "                    for sub_meta_key in batch[key][meta_key].keys():\n",
    "                        print(f\"    Sub Meta Key: {sub_meta_key}\")\n",
    "    break  # Only process the first batch for demonstration"
   ],
   "id": "34ea18bb72c17495",
   "outputs": [
    {
     "name": "stdout",
     "output_type": "stream",
     "text": [
      "Batch 1:\n",
      "Key: image\n",
      "Key: label\n",
      "Key: foreground_start_coord\n",
      "Key: foreground_end_coord\n"
     ]
    }
   ],
   "execution_count": 108
  },
  {
   "metadata": {
    "ExecuteTime": {
     "end_time": "2024-06-06T19:28:19.618164Z",
     "start_time": "2024-06-06T19:28:19.520059Z"
    }
   },
   "cell_type": "code",
   "source": "",
   "id": "2bccfaa12f30b424",
   "outputs": [
    {
     "name": "stdout",
     "output_type": "stream",
     "text": [
      "Training datalist length: 11\n",
      "Validation datalist length: 3\n",
      "Training dataset length: 11\n",
      "Validation dataset length: 3\n",
      "Length of training loader: 6\n",
      "Length of validation loader: 3\n"
     ]
    }
   ],
   "execution_count": 25
  },
  {
   "metadata": {
    "ExecuteTime": {
     "end_time": "2024-06-07T16:56:36.753432Z",
     "start_time": "2024-06-07T16:56:36.228591Z"
    }
   },
   "cell_type": "code",
   "source": [
    "import re\n",
    "import matplotlib.pyplot as plt\n",
    "\n",
    "def extract_losses(log_file_path):\n",
    "    loss_pattern = re.compile(r'Final training\\s+\\d+/\\d+\\s+loss:\\s+([0-9]+\\.[0-9]+)')\n",
    "    losses = []\n",
    "    \n",
    "    with open(log_file_path, 'r') as file:\n",
    "        for line in file:\n",
    "            match = loss_pattern.search(line)\n",
    "            if match:\n",
    "                losses.append(float(match.group(1)))\n",
    "    \n",
    "    return losses\n",
    "\n",
    "def plot_losses(losses):\n",
    "    plt.figure(figsize=(10, 5))\n",
    "    plt.plot(losses, label=\"Training Loss\")\n",
    "    plt.xlabel(\"Epochs\")\n",
    "    plt.ylabel(\"Loss\")\n",
    "    plt.title(\"Training Loss Over Epochs\")\n",
    "    plt.legend()\n",
    "    plt.grid(True)\n",
    "    plt.show()\n",
    "\n",
    "# Path to your log file\n",
    "log_file_path = \"/Users/aryanneizehbaz/Aryan8221/coding_projects/SSL-OARs-Tumor-Segmentation-in-PETCT/Dosimetry_Finetune/runs/logFile_2024-06-06_21:20.log\"\n",
    "\n",
    "# Extract losses from the log file\n",
    "losses = extract_losses(log_file_path)\n",
    "\n",
    "# Plot the losses\n",
    "plot_losses(losses)\n"
   ],
   "id": "df601ad05b2aea67",
   "outputs": [
    {
     "data": {
      "text/plain": [
       "<Figure size 1000x500 with 1 Axes>"
      ],
      "image/png": "[encoded data removed]"
     },
     "metadata": {},
     "output_type": "display_data"
    }
   ],
   "execution_count": 33
  },
  {
   "metadata": {
    "ExecuteTime": {
     "end_time": "2024-06-07T10:06:59.986058Z",
     "start_time": "2024-06-07T10:06:59.775617Z"
    }
   },
   "cell_type": "code",
   "source": [
    "import re\n",
    "import matplotlib.pyplot as plt\n",
    "\n",
    "def extract_final_validation_mse_losses(log_file_path):\n",
    "    final_val_pattern = re.compile(r'Final validation\\s+\\d+/\\d+\\s+acc:([0-9]+\\.[0-9]+)')\n",
    "    final_val_losses = []\n",
    "    \n",
    "    with open(log_file_path, 'r') as file:\n",
    "        for line in file:\n",
    "            match = final_val_pattern.search(line)\n",
    "            if match:\n",
    "                final_val_losses.append(float(match.group(1)))\n",
    "    \n",
    "    return final_val_losses\n",
    "\n",
    "def plot_final_validation_mse_losses(final_val_losses):\n",
    "    plt.figure(figsize=(10, 5))\n",
    "    plt.plot(final_val_losses, marker='o', linestyle='-', label=\"Final Validation MSE Loss\")\n",
    "    plt.xlabel(\"Validation Steps\")\n",
    "    plt.ylabel(\"MSE Loss\")\n",
    "    plt.title(\"Final Validation MSE Loss Over Steps\")\n",
    "    plt.legend()\n",
    "    plt.grid(True)\n",
    "    plt.show()\n",
    "\n",
    "# Path to your log file\n",
    "log_file_path = \"/Users/aryanneizehbaz/Aryan8221/coding_projects/SSL-OARs-Tumor-Segmentation-in-PETCT/Dosimetry_Finetune/runs/logFile_2023-10-09_08:13.log\"\n",
    "\n",
    "# Extract final validation MSE losses from the log file\n",
    "final_val_losses = extract_final_validation_mse_losses(log_file_path)\n",
    "\n",
    "# Plot the final validation MSE losses\n",
    "plot_final_validation_mse_losses(final_val_losses)\n"
   ],
   "id": "cd01adbcebb407e6",
   "outputs": [
    {
     "data": {
      "text/plain": [
       "<Figure size 1000x500 with 1 Axes>"
      ],
      "image/png": "[encoded data removed]"
     },
     "metadata": {},
     "output_type": "display_data"
    }
   ],
   "execution_count": 30
  },
  {
   "metadata": {},
   "cell_type": "code",
   "outputs": [],
   "execution_count": null,
   "source": "",
   "id": "77e9954a3c0981db"
  }
 ],
 "metadata": {
  "kernelspec": {
   "display_name": "Python 3",
   "language": "python",
   "name": "python3"
  },
  "language_info": {
   "codemirror_mode": {
    "name": "ipython",
    "version": 2
   },
   "file_extension": ".py",
   "mimetype": "text/x-python",
   "name": "python",
   "nbconvert_exporter": "python",
   "pygments_lexer": "ipython2",
   "version": "2.7.6"
  }
 },
 "nbformat": 4,
 "nbformat_minor": 5
}
